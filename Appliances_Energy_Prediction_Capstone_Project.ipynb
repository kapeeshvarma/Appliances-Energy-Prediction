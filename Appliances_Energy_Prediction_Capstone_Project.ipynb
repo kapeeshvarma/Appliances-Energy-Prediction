{
  "nbformat": 4,
  "nbformat_minor": 0,
  "metadata": {
    "colab": {
      "name": "Appliances Energy Prediction - Capstone Project.ipynb",
      "provenance": [],
      "collapsed_sections": [],
      "mount_file_id": "1CV180Y24QxMsLVYI9a7OkXKYxYd_UmwB",
      "authorship_tag": "ABX9TyMrN4NbikuS2MbSsrcJcBaO",
      "include_colab_link": true
    },
    "kernelspec": {
      "name": "python3",
      "display_name": "Python 3"
    },
    "language_info": {
      "name": "python"
    }
  },
  "cells": [
    {
      "cell_type": "markdown",
      "metadata": {
        "id": "view-in-github",
        "colab_type": "text"
      },
      "source": [
        "<a href=\"https://colab.research.google.com/github/kapeeshvarma/Appliances-Energy-Prediction/blob/main/Appliances_Energy_Prediction_Capstone_Project.ipynb\" target=\"_parent\"><img src=\"https://colab.research.google.com/assets/colab-badge.svg\" alt=\"Open In Colab\"/></a>"
      ]
    },
    {
      "cell_type": "markdown",
      "metadata": {
        "id": "MihqWeXXwXat"
      },
      "source": [
        "#**APPLIANCES ENERGY PREDICTION**"
      ]
    },
    {
      "cell_type": "markdown",
      "metadata": {
        "id": "Z4W74XcJwmCB"
      },
      "source": [
        "In this time of global uncertainty world needs energy and in increasing quantities to support economic and social progress and build a better quality of life, in particular in developing countries. But even today there are many regions which face constant power outages. These outages are primarily caused due to excess load consumed by home appliances.\n",
        "\n",
        "Hence, the ability to predict energy consumption can not only save money for end user but can also help in generating money by giving excess energy back to Grid (in case of solar panels usage). In this project, we perform regression analysis in order to predict Appliance energy usage based on data collected from various sensors."
      ]
    },
    {
      "cell_type": "markdown",
      "metadata": {
        "id": "mu68v_6S2NfH"
      },
      "source": [
        "## Importing Data and Modules"
      ]
    },
    {
      "cell_type": "code",
      "metadata": {
        "colab": {
          "base_uri": "https://localhost:8080/"
        },
        "id": "d7Ruepboxrmw",
        "outputId": "22ba7a9c-16e6-4e11-e7b6-d500d7f0b080"
      },
      "source": [
        "# Mount Google Drive\n",
        "from google.colab import drive\n",
        "drive.mount('/content/drive')"
      ],
      "execution_count": 1,
      "outputs": [
        {
          "output_type": "stream",
          "text": [
            "Mounted at /content/drive\n"
          ],
          "name": "stdout"
        }
      ]
    },
    {
      "cell_type": "code",
      "metadata": {
        "id": "O3q2gCut2mCJ"
      },
      "source": [
        "# Import the necessary modules\n",
        "import numpy as np\n",
        "import pandas as pd\n",
        "import matplotlib.pyplot as plt\n",
        "import seaborn as sns\n",
        "import datetime as dt"
      ],
      "execution_count": 2,
      "outputs": []
    },
    {
      "cell_type": "code",
      "metadata": {
        "id": "FDm4gnrE3iwm"
      },
      "source": [
        "# Read in the dataset\n",
        "data = pd.read_csv('/content/drive/MyDrive/Colab Notebooks/Appliances Energy Prediction - Kapeesh Varma/data_application_energy.csv')"
      ],
      "execution_count": 3,
      "outputs": []
    },
    {
      "cell_type": "code",
      "metadata": {
        "colab": {
          "base_uri": "https://localhost:8080/",
          "height": 1000
        },
        "id": "A3Qeg_Qa5F9o",
        "outputId": "7777f937-087d-47bd-c6f7-25a7c0db04f4"
      },
      "source": [
        "# Print Summary of the DataFrame\n",
        "data.info()\n",
        "\n",
        "# Examine a random sample from the DataFrame\n",
        "data.sample(5)"
      ],
      "execution_count": 6,
      "outputs": [
        {
          "output_type": "stream",
          "text": [
            "<class 'pandas.core.frame.DataFrame'>\n",
            "RangeIndex: 19735 entries, 0 to 19734\n",
            "Data columns (total 29 columns):\n",
            " #   Column       Non-Null Count  Dtype  \n",
            "---  ------       --------------  -----  \n",
            " 0   date         19735 non-null  object \n",
            " 1   Appliances   19735 non-null  int64  \n",
            " 2   lights       19735 non-null  int64  \n",
            " 3   T1           19735 non-null  float64\n",
            " 4   RH_1         19735 non-null  float64\n",
            " 5   T2           19735 non-null  float64\n",
            " 6   RH_2         19735 non-null  float64\n",
            " 7   T3           19735 non-null  float64\n",
            " 8   RH_3         19735 non-null  float64\n",
            " 9   T4           19735 non-null  float64\n",
            " 10  RH_4         19735 non-null  float64\n",
            " 11  T5           19735 non-null  float64\n",
            " 12  RH_5         19735 non-null  float64\n",
            " 13  T6           19735 non-null  float64\n",
            " 14  RH_6         19735 non-null  float64\n",
            " 15  T7           19735 non-null  float64\n",
            " 16  RH_7         19735 non-null  float64\n",
            " 17  T8           19735 non-null  float64\n",
            " 18  RH_8         19735 non-null  float64\n",
            " 19  T9           19735 non-null  float64\n",
            " 20  RH_9         19735 non-null  float64\n",
            " 21  T_out        19735 non-null  float64\n",
            " 22  Press_mm_hg  19735 non-null  float64\n",
            " 23  RH_out       19735 non-null  float64\n",
            " 24  Windspeed    19735 non-null  float64\n",
            " 25  Visibility   19735 non-null  float64\n",
            " 26  Tdewpoint    19735 non-null  float64\n",
            " 27  rv1          19735 non-null  float64\n",
            " 28  rv2          19735 non-null  float64\n",
            "dtypes: float64(26), int64(2), object(1)\n",
            "memory usage: 4.4+ MB\n"
          ],
          "name": "stdout"
        },
        {
          "output_type": "execute_result",
          "data": {
            "text/html": [
              "<div>\n",
              "<style scoped>\n",
              "    .dataframe tbody tr th:only-of-type {\n",
              "        vertical-align: middle;\n",
              "    }\n",
              "\n",
              "    .dataframe tbody tr th {\n",
              "        vertical-align: top;\n",
              "    }\n",
              "\n",
              "    .dataframe thead th {\n",
              "        text-align: right;\n",
              "    }\n",
              "</style>\n",
              "<table border=\"1\" class=\"dataframe\">\n",
              "  <thead>\n",
              "    <tr style=\"text-align: right;\">\n",
              "      <th></th>\n",
              "      <th>date</th>\n",
              "      <th>Appliances</th>\n",
              "      <th>lights</th>\n",
              "      <th>T1</th>\n",
              "      <th>RH_1</th>\n",
              "      <th>T2</th>\n",
              "      <th>RH_2</th>\n",
              "      <th>T3</th>\n",
              "      <th>RH_3</th>\n",
              "      <th>T4</th>\n",
              "      <th>RH_4</th>\n",
              "      <th>T5</th>\n",
              "      <th>RH_5</th>\n",
              "      <th>T6</th>\n",
              "      <th>RH_6</th>\n",
              "      <th>T7</th>\n",
              "      <th>RH_7</th>\n",
              "      <th>T8</th>\n",
              "      <th>RH_8</th>\n",
              "      <th>T9</th>\n",
              "      <th>RH_9</th>\n",
              "      <th>T_out</th>\n",
              "      <th>Press_mm_hg</th>\n",
              "      <th>RH_out</th>\n",
              "      <th>Windspeed</th>\n",
              "      <th>Visibility</th>\n",
              "      <th>Tdewpoint</th>\n",
              "      <th>rv1</th>\n",
              "      <th>rv2</th>\n",
              "    </tr>\n",
              "  </thead>\n",
              "  <tbody>\n",
              "    <tr>\n",
              "      <th>14726</th>\n",
              "      <td>2016-04-22 23:20:00</td>\n",
              "      <td>50</td>\n",
              "      <td>0</td>\n",
              "      <td>22.700000</td>\n",
              "      <td>39.200000</td>\n",
              "      <td>20.60</td>\n",
              "      <td>39.326667</td>\n",
              "      <td>24.89</td>\n",
              "      <td>36.0000</td>\n",
              "      <td>22.500000</td>\n",
              "      <td>35.200000</td>\n",
              "      <td>21.1</td>\n",
              "      <td>61.50000</td>\n",
              "      <td>9.733333</td>\n",
              "      <td>22.030000</td>\n",
              "      <td>21.557143</td>\n",
              "      <td>32.290000</td>\n",
              "      <td>23.760000</td>\n",
              "      <td>43.963333</td>\n",
              "      <td>20.463333</td>\n",
              "      <td>38.466667</td>\n",
              "      <td>9.766667</td>\n",
              "      <td>756.933333</td>\n",
              "      <td>72.333333</td>\n",
              "      <td>5.000000</td>\n",
              "      <td>32.666667</td>\n",
              "      <td>5.033333</td>\n",
              "      <td>38.061008</td>\n",
              "      <td>38.061008</td>\n",
              "    </tr>\n",
              "    <tr>\n",
              "      <th>13906</th>\n",
              "      <td>2016-04-17 06:40:00</td>\n",
              "      <td>60</td>\n",
              "      <td>0</td>\n",
              "      <td>21.230000</td>\n",
              "      <td>39.326667</td>\n",
              "      <td>17.79</td>\n",
              "      <td>44.500000</td>\n",
              "      <td>23.39</td>\n",
              "      <td>38.0000</td>\n",
              "      <td>20.818571</td>\n",
              "      <td>37.621429</td>\n",
              "      <td>20.5</td>\n",
              "      <td>45.79000</td>\n",
              "      <td>2.200000</td>\n",
              "      <td>56.360000</td>\n",
              "      <td>20.790000</td>\n",
              "      <td>32.718000</td>\n",
              "      <td>22.600000</td>\n",
              "      <td>38.260000</td>\n",
              "      <td>20.790000</td>\n",
              "      <td>45.290000</td>\n",
              "      <td>1.766667</td>\n",
              "      <td>752.366667</td>\n",
              "      <td>97.333333</td>\n",
              "      <td>1.000000</td>\n",
              "      <td>36.333333</td>\n",
              "      <td>1.400000</td>\n",
              "      <td>35.301423</td>\n",
              "      <td>35.301423</td>\n",
              "    </tr>\n",
              "    <tr>\n",
              "      <th>17653</th>\n",
              "      <td>2016-05-13 07:10:00</td>\n",
              "      <td>80</td>\n",
              "      <td>0</td>\n",
              "      <td>24.890000</td>\n",
              "      <td>47.200000</td>\n",
              "      <td>22.89</td>\n",
              "      <td>49.247500</td>\n",
              "      <td>26.39</td>\n",
              "      <td>43.0900</td>\n",
              "      <td>24.790000</td>\n",
              "      <td>44.700000</td>\n",
              "      <td>24.0</td>\n",
              "      <td>49.79000</td>\n",
              "      <td>12.860000</td>\n",
              "      <td>56.760000</td>\n",
              "      <td>24.700000</td>\n",
              "      <td>41.500000</td>\n",
              "      <td>25.790000</td>\n",
              "      <td>47.668571</td>\n",
              "      <td>24.040000</td>\n",
              "      <td>47.196000</td>\n",
              "      <td>12.433333</td>\n",
              "      <td>746.550000</td>\n",
              "      <td>97.166667</td>\n",
              "      <td>1.166667</td>\n",
              "      <td>58.500000</td>\n",
              "      <td>11.933333</td>\n",
              "      <td>33.978301</td>\n",
              "      <td>33.978301</td>\n",
              "    </tr>\n",
              "    <tr>\n",
              "      <th>7511</th>\n",
              "      <td>2016-03-03 20:50:00</td>\n",
              "      <td>80</td>\n",
              "      <td>0</td>\n",
              "      <td>22.185714</td>\n",
              "      <td>37.121429</td>\n",
              "      <td>20.79</td>\n",
              "      <td>37.457143</td>\n",
              "      <td>21.29</td>\n",
              "      <td>37.3725</td>\n",
              "      <td>20.290000</td>\n",
              "      <td>34.668571</td>\n",
              "      <td>20.1</td>\n",
              "      <td>57.80875</td>\n",
              "      <td>1.037500</td>\n",
              "      <td>71.632500</td>\n",
              "      <td>19.332857</td>\n",
              "      <td>29.700000</td>\n",
              "      <td>22.185714</td>\n",
              "      <td>39.321429</td>\n",
              "      <td>18.500000</td>\n",
              "      <td>38.082857</td>\n",
              "      <td>1.683333</td>\n",
              "      <td>749.800000</td>\n",
              "      <td>90.500000</td>\n",
              "      <td>2.000000</td>\n",
              "      <td>30.000000</td>\n",
              "      <td>0.300000</td>\n",
              "      <td>1.128823</td>\n",
              "      <td>1.128823</td>\n",
              "    </tr>\n",
              "    <tr>\n",
              "      <th>8243</th>\n",
              "      <td>2016-03-08 22:50:00</td>\n",
              "      <td>50</td>\n",
              "      <td>0</td>\n",
              "      <td>20.926667</td>\n",
              "      <td>38.090000</td>\n",
              "      <td>18.39</td>\n",
              "      <td>40.230000</td>\n",
              "      <td>20.20</td>\n",
              "      <td>38.0900</td>\n",
              "      <td>19.890000</td>\n",
              "      <td>34.700000</td>\n",
              "      <td>18.6</td>\n",
              "      <td>45.53000</td>\n",
              "      <td>5.000000</td>\n",
              "      <td>78.123333</td>\n",
              "      <td>18.390000</td>\n",
              "      <td>32.333333</td>\n",
              "      <td>20.890000</td>\n",
              "      <td>39.096667</td>\n",
              "      <td>17.500000</td>\n",
              "      <td>36.963333</td>\n",
              "      <td>4.616667</td>\n",
              "      <td>754.866667</td>\n",
              "      <td>75.666667</td>\n",
              "      <td>4.833333</td>\n",
              "      <td>40.000000</td>\n",
              "      <td>0.650000</td>\n",
              "      <td>6.549421</td>\n",
              "      <td>6.549421</td>\n",
              "    </tr>\n",
              "  </tbody>\n",
              "</table>\n",
              "</div>"
            ],
            "text/plain": [
              "                      date  Appliances  lights  ...  Tdewpoint        rv1        rv2\n",
              "14726  2016-04-22 23:20:00          50       0  ...   5.033333  38.061008  38.061008\n",
              "13906  2016-04-17 06:40:00          60       0  ...   1.400000  35.301423  35.301423\n",
              "17653  2016-05-13 07:10:00          80       0  ...  11.933333  33.978301  33.978301\n",
              "7511   2016-03-03 20:50:00          80       0  ...   0.300000   1.128823   1.128823\n",
              "8243   2016-03-08 22:50:00          50       0  ...   0.650000   6.549421   6.549421\n",
              "\n",
              "[5 rows x 29 columns]"
            ]
          },
          "metadata": {},
          "execution_count": 6
        }
      ]
    },
    {
      "cell_type": "markdown",
      "metadata": {
        "id": "WeASmb8H5ySc"
      },
      "source": [
        "We can observe that none of the columns have null-values. This is good for Data Analysis!"
      ]
    },
    {
      "cell_type": "code",
      "metadata": {
        "id": "VaDTCA4o5XtG"
      },
      "source": [
        ""
      ],
      "execution_count": null,
      "outputs": []
    }
  ]
}